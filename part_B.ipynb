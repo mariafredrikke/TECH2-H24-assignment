{
  "cells": [
    {
      "cell_type": "markdown",
      "metadata": {},
      "source": [
        "# TECH 2 mandatory assignment - Part B\n",
        "\n",
        "Write your solution for Part B in this notebook."
      ]
    },
    {
      "cell_type": "code",
      "execution_count": null,
      "metadata": {},
      "outputs": [],
      "source": [
        "'''Solution to Part B'''",
        "import csv",
        "import numpy as np",
        "from math import sqrt",
        "import timeit",
        "",
        "# functions from partA",
        "",
        "def std_loops(x):",
        "    # length of the list",
        "    N = 0",
        "    for i in x:",
        "        N += 1",
        "    # sum of all elements (x) in the list",
        "    sum_x = 0",
        "    for j in range(N):",
        "        sum_x += x[j]",
        "    # calculate mean",
        "    mean = sum_x / N",
        "    # squared deviations and variance",
        "    squared_dev = 0",
        "    for k in range(N):",
        "        squared_dev += ((x[k] - mean) ** 2)",
        "    variance = squared_dev / N",
        "    return sqrt(variance)",
        "",
        "def std_builtin(x):",
        "    N = len(x)",
        "    # mean",
        "    mean = sum(x) / N",
        "    # squared deviations and variance",
        "    squared_dev = sum(xi ** 2 for xi in x) / N",
        "    variance = squared_dev - mean ** 2",
        "    return sqrt(variance)",
        "",
        "def std_numpy(x):",
        "    return np.std(x)",
        "",
        "# create empty list for each column",
        "col1 = []",
        "col2 = []",
        "col3 = []",
        "",
        "# load and open data from csv file",
        "with open('data.csv', 'r') as f:",
        "    reader = csv.reader(f)",
        "    for row in reader:",
        "        # Append values to list",
        "        col1.append((row[0]))",
        "        col2.append((row[1]))",
        "        col3.append((row[2]))",
        "",
        "# Convert string columns to floats",
        "col1 = [float(value) if value.strip() else 0.0 for value in col1]",
        "col2 = [float(value) if value.strip() else 0.0 for value in col2]",
        "col3 = [float(value) if value.strip() else 0.0 for value in col3]",
        "",
        "#Column 1 std result and time",
        "std_loop_1 = std_loops(col1)",
        "std_builtin_1 = std_builtin(col1)",
        "std_np_1 = std_numpy(col1)",
        "print(f\"Standard Deviation Column 1 with 100 numbers (loops): {std_loop_1}\")",
        "print(\"Runtime 100 numbers (loops): \")",
        "%timeit std_loops(col1)",
        "print(f\"Standard Deviation Column 1 with 100 numbers(built-in): {std_builtin_1}\")",
        "print(\"Runtime 100 numbers (built-in): \")",
        "%timeit std_builtin(col1)",
        "print(f\"Standard Deviation Column 1 with 100 numbers (NumPy): {std_np_1}\")",
        "print(\"Runtime 100 numbers (NumPy): \")",
        "%timeit std_numpy(col1)",
        "print(\"\\n\");",
        "",
        "#Column 2 std result and time",
        "std_loop_2 = std_loops(col2)",
        "std_builtin_2 = std_builtin(col2)",
        "std_np_2 = std_numpy(col2)",
        "print(f\"Standard Deviation Column 2 with 1000 numbers (loops): {std_loop_2}\")",
        "print(\"Runtime 1000 numbers (loops): \")",
        "%timeit std_loops(col2)",
        "print(f\"Standard Deviation Column 2 with 1000 numbers(built-in): {std_builtin_2}\")",
        "print(\"Runtime 1000 numbers (built-in): \")",
        "%timeit std_builtin(col2)",
        "print(f\"Standard Deviation Column 2 with 1000 numbers (NumPy): {std_np_2}\")",
        "print(\"Runtime 1000 numbers (NumPy): \")",
        "%timeit std_numpy(col2)",
        "print(\"\\n\");",
        "",
        "#Column 3 std result and time",
        "std_loop_3 = std_loops(col3)",
        "std_builtin_3 = std_builtin(col3)",
        "std_np_3 = std_numpy(col3)",
        "print(f\"Standard Deviation Column 3 with 10 000 numbers (loops): {std_loop_3}\")",
        "print(\"Runtime 10 000 numbers (loops): \")",
        "%timeit std_loops(col3)",
        "print(f\"Standard Deviation Column 3 with 10 000 numbers(built-in): {std_builtin_3}\")",
        "print(\"Runtime 10 000 numbers (built-in): \")",
        "%timeit std_builtin(col3)",
        "print(f\"Standard Deviation Column 3 with 10 000 numbers (NumPy): {std_np_3}\")",
        "print(\"Runtime 10 000 numbers (NumPy): \")",
        "%timeit std_numpy(col3)",
        "print(\"\\n\");",
        "",
        "'''Conclusion for the boss:'''",
        "# (add your conclusion here)"
      ]
    },
    {
      "cell_type": "code",
      "execution_count": null,
      "metadata": {},
      "outputs": [],
      "source": [
        "'''Solution to Part B'''",
        "import csv",
        "import numpy as np",
        "from math import sqrt",
        "import timeit"
      ]
    },
    {
      "cell_type": "code",
      "execution_count": null,
      "metadata": {},
      "outputs": [],
      "source": [
        "# functions from partA",
        "",
        "def std_loops(x):",
        "    N = 0",
        "    for i in x:",
        "        N += 1",
        "    sum_x = 0",
        "    for j in range(N):",
        "        sum_x += x[j]",
        "    mean = sum_x / N",
        "    squared_dev = 0",
        "    for k in range(N):",
        "        squared_dev += ((x[k] - mean) ** 2)",
        "    variance = squared_dev / N",
        "    return sqrt(variance)"
      ]
    },
    {
      "cell_type": "code",
      "execution_count": null,
      "metadata": {},
      "outputs": [],
      "source": [
        "def std_builtin(x):",
        "    N = len(x)",
        "    mean = sum(x) / N",
        "    squared_dev = sum(xi ** 2 for xi in x) / N",
        "    variance = squared_dev - mean ** 2",
        "    return sqrt(variance)"
      ]
    },
    {
      "cell_type": "code",
      "execution_count": null,
      "metadata": {},
      "outputs": [],
      "source": [
        "def std_numpy(x):",
        "    return np.std(x)"
      ]
    },
    {
      "cell_type": "code",
      "execution_count": null,
      "metadata": {},
      "outputs": [],
      "source": [
        "# create empty list for each column",
        "col1 = []",
        "col2 = []",
        "col3 = []",
        "",
        "# load and open data from csv file",
        "with open('data.csv', 'r') as f:",
        "    reader = csv.reader(f)",
        "    for row in reader:",
        "        col1.append((row[0]))",
        "        col2.append((row[1]))",
        "        col3.append((row[2]))",
        "",
        "# Convert string columns to floats",
        "col1 = [float(value) if value.strip() else 0.0 for value in col1]",
        "col2 = [float(value) if value.strip() else 0.0 for value in col2]",
        "col3 = [float(value) if value.strip() else 0.0 for value in col3]"
      ]
    },
    {
      "cell_type": "code",
      "execution_count": null,
      "metadata": {},
      "outputs": [],
      "source": [
        "# Standard deviation calculations for Column 1",
        "std_loop_1 = std_loops(col1)",
        "std_builtin_1 = std_builtin(col1)",
        "std_np_1 = std_numpy(col1)",
        "print(f\"Standard Deviation Column 1 with 100 numbers (loops): {std_loop_1}\")",
        "print(\"Runtime 100 numbers (loops): \")",
        "%timeit std_loops(col1)",
        "print(f\"Standard Deviation Column 1 with 100 numbers(built-in): {std_builtin_1}\")",
        "print(\"Runtime 100 numbers (built-in): \")",
        "%timeit std_builtin(col1)",
        "print(f\"Standard Deviation Column 1 with 100 numbers (NumPy): {std_np_1}\")",
        "print(\"Runtime 100 numbers (NumPy): \")",
        "%timeit std_numpy(col1)",
        "print(\"\\n\");"
      ]
    },
    {
      "cell_type": "code",
      "execution_count": null,
      "metadata": {},
      "outputs": [],
      "source": [
        "# Standard deviation calculations for Column 2",
        "std_loop_2 = std_loops(col2)",
        "std_builtin_2 = std_builtin(col2)",
        "std_np_2 = std_numpy(col2)",
        "print(f\"Standard Deviation Column 2 with 1000 numbers (loops): {std_loop_2}\")",
        "print(\"Runtime 1000 numbers (loops): \")",
        "%timeit std_loops(col2)",
        "print(f\"Standard Deviation Column 2 with 1000 numbers(built-in): {std_builtin_2}\")",
        "print(\"Runtime 1000 numbers (built-in): \")",
        "%timeit std_builtin(col2)",
        "print(f\"Standard Deviation Column 2 with 1000 numbers (NumPy): {std_np_2}\")",
        "print(\"Runtime 1000 numbers (NumPy): \")",
        "%timeit std_numpy(col2)",
        "print(\"\\n\");"
      ]
    },
    {
      "cell_type": "code",
      "execution_count": null,
      "metadata": {},
      "outputs": [],
      "source": [
        "# Standard deviation calculations for Column 3",
        "std_loop_3 = std_loops(col3)",
        "std_builtin_3 = std_builtin(col3)",
        "std_np_3 = std_numpy(col3)",
        "print(f\"Standard Deviation Column 3 with 10 000 numbers (loops): {std_loop_3}\")",
        "print(\"Runtime 10 000 numbers (loops): \")",
        "%timeit std_loops(col3)",
        "print(f\"Standard Deviation Column 3 with 10 000 numbers(built-in): {std_builtin_3}\")",
        "print(\"Runtime 10 000 numbers (built-in): \")",
        "%timeit std_builtin(col3)",
        "print(f\"Standard Deviation Column 3 with 10 000 numbers (NumPy): {std_np_3}\")",
        "print(\"Runtime 10 000 numbers (NumPy): \")",
        "%timeit std_numpy(col3)",
        "print(\"\\n\");"
      ]
    },
    {
      "cell_type": "code",
      "execution_count": null,
      "metadata": {},
      "outputs": [],
      "source": [
        "'''Conclusion for the boss:'''",
        "# The runtime when using NumPy's std() function is significantly faster than both the use of loops and the built-in len() and sum() functions. Manual loops are the slowest - especially when handling large datasets with a lot of rows."
      ]
    },
    {
      "cells": [
        {
          "cell_type": "markdown",
          "metadata": {
            "id": "ufrnrYApHqbJ"
          },
          "source": [
            "# TECH 2 mandatory assignment - Part B\n",
            "\n",
            "Write your solution for Part B in this notebook."
          ]
        },
        {
          "cell_type": "markdown",
          "source": [
            "# Solution to Part B"
          ],
          "metadata": {
            "id": "WnO3gjC9JLTV"
          }
        },
        {
          "cell_type": "markdown",
          "source": [
            "Importing relevant libraries"
          ],
          "metadata": {
            "id": "8sVZv4gnKeYz"
          }
        },
        {
          "cell_type": "code",
          "execution_count": 1,
          "metadata": {
            "id": "tSyO2OW1HqbO"
          },
          "outputs": [],
          "source": [
            "import csv\n",
            "import numpy as np\n",
            "from math import sqrt\n",
            "import timeit"
          ]
        },
        {
          "cell_type": "markdown",
          "source": [
            "Functions from Part A"
          ],
          "metadata": {
            "id": "0wnpAky4JZ5f"
          }
        },
        {
          "cell_type": "code",
          "source": [
            "\n",
            "def std_loops(x):\n",
            "  # length of the list\n",
            "  N = 0\n",
            "  for i in x:\n",
            "    N += 1\n",
            "\n",
            "  # sum of all elements (x) in the list\n",
            "  sum_x = 0\n",
            "  for j in range(N):\n",
            "    sum_x += x[j]\n",
            "\n",
            "  # calculate mean\n",
            "  mean = sum_x / N\n",
            "\n",
            "  # squared deviations and variance\n",
            "  squared_dev = 0\n",
            "  for k in range(N):\n",
            "    squared_dev += ((x[k] - mean) ** 2)\n",
            "    variance = squared_dev / N\n",
            "    return sqrt(variance)\n",
            "\n",
            "def std_builtin(x):\n",
            "   N = len(x)\n",
            "   # mean\n",
            "   mean = sum(x) / N\n",
            "   # squared deviations and variance\n",
            "   squared_dev = sum(xi ** 2 for xi in x) / N\n",
            "   variance = squared_dev - mean ** 2\n",
            "   return sqrt(variance)\n",
            "\n",
            "def std_numpy(x):\n",
            "   return np.std(x)"
          ],
          "metadata": {
            "id": "8HuwegboJJmR"
          },
          "execution_count": 2,
          "outputs": []
        },
        {
          "cell_type": "markdown",
          "source": [
            "Creation of empty lists and reading of the data.csv file"
          ],
          "metadata": {
            "id": "x-1Xb3HtJb77"
          }
        },
        {
          "cell_type": "code",
          "source": [
            "# create empty list for each column\n",
            "col1 = []\n",
            "col2 = []\n",
            "col3 = []\n",
            "\n",
            "# load and open data from csv file\n",
            "with open('data.csv', 'r') as f:\n",
            "  reader = csv.reader(f)\n",
            "  for row in reader:\n",
            "  # Append values to list\n",
            "    col1.append((row[0]))\n",
            "    col2.append((row[1]))\n",
            "    col3.append((row[2]))\n",
            "\n",
            "# Convert string columns to floats\n",
            "col1 = [float(value) if value.strip() else 0.0 for value in col1]\n",
            "col2 = [float(value) if value.strip() else 0.0 for value in col2]\n",
            "col3 = [float(value) if value.strip() else 0.0 for value in col3]"
          ],
          "metadata": {
            "colab": {
              "base_uri": "https://localhost:8080/",
              "height": 207
            },
            "id": "JoeaAvrAJJfQ",
            "outputId": "d8a3aecf-9c0e-42fd-e10f-17a50beb2b0c"
          },
          "execution_count": 3,
          "outputs": [
            {
              "output_type": "error",
              "ename": "FileNotFoundError",
              "evalue": "[Errno 2] No such file or directory: 'data.csv'",
              "traceback": [
                "\u001b[0;31m---------------------------------------------------------------------------\u001b[0m",
                "\u001b[0;31mFileNotFoundError\u001b[0m                         Traceback (most recent call last)",
                "\u001b[0;32m<ipython-input-3-6a8c878fd451>\u001b[0m in \u001b[0;36m<cell line: 7>\u001b[0;34m()\u001b[0m\n\u001b[1;32m      5\u001b[0m \u001b[0;34m\u001b[0m\u001b[0m\n\u001b[1;32m      6\u001b[0m \u001b[0;31m# load and open data from csv file\u001b[0m\u001b[0;34m\u001b[0m\u001b[0;34m\u001b[0m\u001b[0m\n\u001b[0;32m----> 7\u001b[0;31m \u001b[0;32mwith\u001b[0m \u001b[0mopen\u001b[0m\u001b[0;34m(\u001b[0m\u001b[0;34m'data.csv'\u001b[0m\u001b[0;34m,\u001b[0m \u001b[0;34m'r'\u001b[0m\u001b[0;34m)\u001b[0m \u001b[0;32mas\u001b[0m \u001b[0mf\u001b[0m\u001b[0;34m:\u001b[0m\u001b[0;34m\u001b[0m\u001b[0;34m\u001b[0m\u001b[0m\n\u001b[0m\u001b[1;32m      8\u001b[0m   \u001b[0mreader\u001b[0m \u001b[0;34m=\u001b[0m \u001b[0mcsv\u001b[0m\u001b[0;34m.\u001b[0m\u001b[0mreader\u001b[0m\u001b[0;34m(\u001b[0m\u001b[0mf\u001b[0m\u001b[0;34m)\u001b[0m\u001b[0;34m\u001b[0m\u001b[0;34m\u001b[0m\u001b[0m\n\u001b[1;32m      9\u001b[0m   \u001b[0;32mfor\u001b[0m \u001b[0mrow\u001b[0m \u001b[0;32min\u001b[0m \u001b[0mreader\u001b[0m\u001b[0;34m:\u001b[0m\u001b[0;34m\u001b[0m\u001b[0;34m\u001b[0m\u001b[0m\n",
                "\u001b[0;31mFileNotFoundError\u001b[0m: [Errno 2] No such file or directory: 'data.csv'"
              ]
            }
          ]
        },
        {
          "cell_type": "markdown",
          "source": [
            "Standard deviation and runtime for Column 1 with 100 numbers"
          ],
          "metadata": {
            "id": "TktOqZTSJ5k7"
          }
        },
        {
          "cell_type": "code",
          "source": [
            "#Column 1 std result and time\n",
            "std_loop_1 = std_loops(col1)\n",
            "std_builtin_1 = std_builtin(col1)\n",
            "std_np_1 = std_numpy(col1)\n",
            "\n",
            "print(f\"Standard Deviation Column 1 with 100 numbers (loops): {std_loop_1}\")\n",
            "print(\"Runtime 100 numbers (loops): \")\n",
            "%timeit std_loops(col1)\n",
            "\n",
            "print(f\"Standard Deviation Column 1 with 100 numbers(built-in): {std_builtin_1}\")\n",
            "print(\"Runtime 100 numbers (built-in): \")\n",
            "%timeit std_builtin(col1)\n",
            "\n",
            "print(f\"Standard Deviation Column 1 with 100 numbers (NumPy): {std_np_1}\")\n",
            "print(\"Runtime 100 numbers (NumPy): \")\n",
            "%timeit std_numpy(col1)\n",
            "print(\"\\n\")"
          ],
          "metadata": {
            "id": "T4-oLT-rJJZj"
          },
          "execution_count": 0,
          "outputs": []
        },
        {
          "cell_type": "markdown",
          "source": [
            "Standard deviation and runtime for Column 2 with 1000 numbers"
          ],
          "metadata": {
            "id": "7y8ovTXnKHuv"
          }
        },
        {
          "cell_type": "code",
          "source": [
            "#Column 2 std result and time\n",
            "std_loop_2 = std_loops(col2)\n",
            "std_builtin_2 = std_builtin(col2)\n",
            "std_np_2 = std_numpy(col2)\n",
            "\n",
            "print(f\"Standard Deviation Column 2 with 1000 numbers (loops): {std_loop_2}\")\n",
            "print(\"Runtime 1000 numbers (loops): \")\n",
            "%timeit std_loops(col2)\n",
            "\n",
            "print(f\"Standard Deviation Column 2 with 1000 numbers(built-in): {std_builtin_2}\")\n",
            "print(\"Runtime 1000 numbers (built-in): \")\n",
            "%timeit std_builtin(col2)\n",
            "\n",
            "print(f\"Standard Deviation Column 2 with 1000 numbers (NumPy): {std_np_2}\")\n",
            "print(\"Runtime 1000 numbers (NumPy): \")\n",
            "%timeit std_numpy(col2)\n",
            "print(\"\\n\")"
          ],
          "metadata": {
            "id": "XoDTI1qOJJSN"
          },
          "execution_count": 0,
          "outputs": []
        },
        {
          "cell_type": "markdown",
          "source": [
            "Standard deviation and runtime for Column 3 with 10 000 numbers"
          ],
          "metadata": {
            "id": "Ap4vLzQTKVyc"
          }
        },
        {
          "cell_type": "code",
          "source": [
            "  #Column 3 std result and time\n",
            "std_loop_3 = std_loops(col3)\n",
            "std_builtin_3 = std_builtin(col3)\n",
            "std_np_3 = std_numpy(col3)\n",
            "\n",
            "print(f\"Standard Deviation Column 3 with 10 000 numbers (loops): {std_loop_3}\")\n",
            "print(\"Runtime 10 000 numbers (loops): \")\n",
            "%timeit std_loops(col3)\n",
            "\n",
            "print(f\"Standard Deviation Column 3 with 10 000 numbers(built-in): {std_builtin_3}\")\n",
            "print(\"Runtime 10 000 numbers (built-in): \")\n",
            "%timeit std_builtin(col3)\n",
            "\n",
            "print(f\"Standard Deviation Column 3 with 10 000 numbers (NumPy): {std_np_3}\")\n",
            "print(\"Runtime 10 000 numbers (NumPy): \")\n",
            "%timeit std_numpy(col3)\n",
            "print(\"\\n\")\n",
            ""
          ],
          "metadata": {
            "id": "G_cBa6qeJJDP"
          },
          "execution_count": 0,
          "outputs": []
        },
        {
          "cell_type": "markdown",
          "source": [
            "## Conlusion for the boss\n",
            "\n",
            "The runtime when using NumPy's std() function is significantly faster than both\n",
            "the use of loops and the built-in len() and sum() functions.\n",
            "Manual loops are the slowest - especially when handling large datasets with a lot of rows"
          ],
          "metadata": {
            "id": "0u_rYyA9KsyH"
          }
        }
      ],
      "metadata": {
        "language_info": {
          "name": "python"
        },
        "colab": {
          "provenance": []
        },
        "kernelspec": {
          "name": "python3",
          "display_name": "Python 3"
        }
      },
      "nbformat": 4,
      "nbformat_minor": 0
    }
  ],
  "metadata": {
    "language_info": {
      "name": "python"
    }
  },
  "nbformat": 4,
  "nbformat_minor": 2
}