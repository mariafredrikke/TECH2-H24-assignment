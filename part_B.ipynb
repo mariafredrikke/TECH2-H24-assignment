{
  "cells": [
    {
      "cell_type": "markdown",
      "metadata": {
        "id": "ufrnrYApHqbJ"
      },
      "source": [
        "# TECH 2 mandatory assignment - Part B\n",
        "\n",
        "Write your solution for Part B in this notebook."
      ]
    },
    {
      "cell_type": "markdown",
      "source": [
        "# Solution to Part B"
      ],
      "metadata": {
        "id": "WnO3gjC9JLTV"
      }
    },
    {
      "cell_type": "markdown",
      "source": [
        "Importing relevant libraries"
      ],
      "metadata": {
        "id": "8sVZv4gnKeYz"
      }
    },
    {
      "cell_type": "code",
      "execution_count": 4,
      "metadata": {
        "id": "tSyO2OW1HqbO"
      },
      "outputs": [],
      "source": [
        "import csv\n",
        "import numpy as np\n",
        "from math import sqrt\n",
        "import timeit"
      ]
    },
    {
      "cell_type": "markdown",
      "source": [
        "Functions from Part A"
      ],
      "metadata": {
        "id": "0wnpAky4JZ5f"
      }
    },
    {
      "cell_type": "code",
      "source": [
        "\n",
        "def std_loops(x):\n",
        "  # length of the list\n",
        "  N = 0\n",
        "  for i in x:\n",
        "    N += 1\n",
        "\n",
        "  # sum of all elements (x) in the list\n",
        "  sum_x = 0\n",
        "  for j in range(N):\n",
        "    sum_x += x[j]\n",
        "\n",
        "  # calculate mean\n",
        "  mean = sum_x / N\n",
        "\n",
        "  # squared deviations and variance\n",
        "  squared_dev = 0\n",
        "  for k in range(N):\n",
        "    squared_dev += ((x[k] - mean) ** 2)\n",
        "    variance = squared_dev / N\n",
        "    return sqrt(variance)\n",
        "\n",
        "def std_builtin(x):\n",
        "   N = len(x)\n",
        "   # mean\n",
        "   mean = sum(x) / N\n",
        "   # squared deviations and variance\n",
        "   squared_dev = sum(xi ** 2 for xi in x) / N\n",
        "   variance = squared_dev - mean ** 2\n",
        "   return sqrt(variance)\n",
        "\n",
        "def std_numpy(x):\n",
        "   return np.std(x)"
      ],
      "metadata": {
        "id": "8HuwegboJJmR"
      },
      "execution_count": 5,
      "outputs": []
    },
    {
      "cell_type": "markdown",
      "source": [
        "Creation of empty lists and reading of the data.csv file"
      ],
      "metadata": {
        "id": "x-1Xb3HtJb77"
      }
    },
    {
      "cell_type": "code",
      "source": [
        "# create empty list for each column\n",
        "col1 = []\n",
        "col2 = []\n",
        "col3 = []\n",
        "\n",
        "# load and open data from csv file\n",
        "with open('data.csv', 'r') as f:\n",
        "  reader = csv.reader(f)\n",
        "  for row in reader:\n",
        "  # Append values to list\n",
        "    col1.append((row[0]))\n",
        "    col2.append((row[1]))\n",
        "    col3.append((row[2]))\n",
        "\n",
        "# Convert string columns to floats\n",
        "col1 = [float(value) if value.strip() else 0.0 for value in col1]\n",
        "col2 = [float(value) if value.strip() else 0.0 for value in col2]\n",
        "col3 = [float(value) if value.strip() else 0.0 for value in col3]"
      ],
      "metadata": {
        "id": "JoeaAvrAJJfQ"
      },
      "execution_count": 6,
      "outputs": []
    },
    {
      "cell_type": "markdown",
      "source": [
        "Standard deviation and runtime for Column 1 with 100 numbers"
      ],
      "metadata": {
        "id": "TktOqZTSJ5k7"
      }
    },
    {
      "cell_type": "code",
      "source": [
        "#Column 1 std result and time\n",
        "std_loop_1 = std_loops(col1)\n",
        "std_builtin_1 = std_builtin(col1)\n",
        "std_np_1 = std_numpy(col1)\n",
        "\n",
        "print(f\"Standard Deviation Column 1 with 100 numbers (loops): {std_loop_1}\")\n",
        "print(\"Runtime 100 numbers (loops): \")\n",
        "%timeit std_loops(col1)\n",
        "\n",
        "print(f\"Standard Deviation Column 1 with 100 numbers(built-in): {std_builtin_1}\")\n",
        "print(\"Runtime 100 numbers (built-in): \")\n",
        "%timeit std_builtin(col1)\n",
        "\n",
        "print(f\"Standard Deviation Column 1 with 100 numbers (NumPy): {std_np_1}\")\n",
        "print(\"Runtime 100 numbers (NumPy): \")\n",
        "%timeit std_numpy(col1)\n",
        "print(\"\\n\")"
      ],
      "metadata": {
        "colab": {
          "base_uri": "https://localhost:8080/"
        },
        "id": "T4-oLT-rJJZj",
        "outputId": "4d924b3a-d517-4f72-abca-a642830d6f69"
      },
      "execution_count": 7,
      "outputs": [
        {
          "output_type": "stream",
          "name": "stdout",
          "text": [
            "Standard Deviation Column 1 with 100 numbers (loops): 0.006775531576296749\n",
            "Runtime 100 numbers (loops): \n",
            "1.36 ms ± 294 µs per loop (mean ± std. dev. of 7 runs, 1000 loops each)\n",
            "Standard Deviation Column 1 with 100 numbers(built-in): 0.05547134457738975\n",
            "Runtime 100 numbers (built-in): \n",
            "1.21 ms ± 343 µs per loop (mean ± std. dev. of 7 runs, 1000 loops each)\n",
            "Standard Deviation Column 1 with 100 numbers (NumPy): 0.05547134457738975\n",
            "Runtime 100 numbers (NumPy): \n",
            "521 µs ± 4.71 µs per loop (mean ± std. dev. of 7 runs, 1000 loops each)\n",
            "\n",
            "\n"
          ]
        }
      ]
    },
    {
      "cell_type": "markdown",
      "source": [
        "Standard deviation and runtime for Column 2 with 1000 numbers"
      ],
      "metadata": {
        "id": "7y8ovTXnKHuv"
      }
    },
    {
      "cell_type": "code",
      "source": [
        "#Column 2 std result and time\n",
        "std_loop_2 = std_loops(col2)\n",
        "std_builtin_2 = std_builtin(col2)\n",
        "std_np_2 = std_numpy(col2)\n",
        "\n",
        "print(f\"Standard Deviation Column 2 with 1000 numbers (loops): {std_loop_2}\")\n",
        "print(\"Runtime 1000 numbers (loops): \")\n",
        "%timeit std_loops(col2)\n",
        "\n",
        "print(f\"Standard Deviation Column 2 with 1000 numbers(built-in): {std_builtin_2}\")\n",
        "print(\"Runtime 1000 numbers (built-in): \")\n",
        "%timeit std_builtin(col2)\n",
        "\n",
        "print(f\"Standard Deviation Column 2 with 1000 numbers (NumPy): {std_np_2}\")\n",
        "print(\"Runtime 1000 numbers (NumPy): \")\n",
        "%timeit std_numpy(col2)\n",
        "print(\"\\n\")"
      ],
      "metadata": {
        "colab": {
          "base_uri": "https://localhost:8080/"
        },
        "id": "XoDTI1qOJJSN",
        "outputId": "57dec55c-db17-4a63-81f1-2b56abbfddfb"
      },
      "execution_count": 8,
      "outputs": [
        {
          "output_type": "stream",
          "name": "stdout",
          "text": [
            "Standard Deviation Column 2 with 1000 numbers (loops): 0.0063199442513206874\n",
            "Runtime 1000 numbers (loops): \n",
            "1.36 ms ± 333 µs per loop (mean ± std. dev. of 7 runs, 1000 loops each)\n",
            "Standard Deviation Column 2 with 1000 numbers(built-in): 0.1758601644310647\n",
            "Runtime 1000 numbers (built-in): \n",
            "1.25 ms ± 323 µs per loop (mean ± std. dev. of 7 runs, 1000 loops each)\n",
            "Standard Deviation Column 2 with 1000 numbers (NumPy): 0.17586016443106478\n",
            "Runtime 1000 numbers (NumPy): \n",
            "524 µs ± 10.9 µs per loop (mean ± std. dev. of 7 runs, 1000 loops each)\n",
            "\n",
            "\n"
          ]
        }
      ]
    },
    {
      "cell_type": "markdown",
      "source": [
        "Standard deviation and runtime for Column 3 with 10 000 numbers"
      ],
      "metadata": {
        "id": "Ap4vLzQTKVyc"
      }
    },
    {
      "cell_type": "code",
      "source": [
        "  #Column 3 std result and time\n",
        "std_loop_3 = std_loops(col3)\n",
        "std_builtin_3 = std_builtin(col3)\n",
        "std_np_3 = std_numpy(col3)\n",
        "\n",
        "print(f\"Standard Deviation Column 3 with 10 000 numbers (loops): {std_loop_3}\")\n",
        "print(\"Runtime 10 000 numbers (loops): \")\n",
        "%timeit std_loops(col3)\n",
        "\n",
        "print(f\"Standard Deviation Column 3 with 10 000 numbers(built-in): {std_builtin_3}\")\n",
        "print(\"Runtime 10 000 numbers (built-in): \")\n",
        "%timeit std_builtin(col3)\n",
        "\n",
        "print(f\"Standard Deviation Column 3 with 10 000 numbers (NumPy): {std_np_3}\")\n",
        "print(\"Runtime 10 000 numbers (NumPy): \")\n",
        "%timeit std_numpy(col3)\n",
        "print(\"\\n\")\n",
        ""
      ],
      "metadata": {
        "colab": {
          "base_uri": "https://localhost:8080/"
        },
        "id": "G_cBa6qeJJDP",
        "outputId": "5a59a9d4-a08d-4c36-e5cd-1a1d8daf2015"
      },
      "execution_count": 9,
      "outputs": [
        {
          "output_type": "stream",
          "name": "stdout",
          "text": [
            "Standard Deviation Column 3 with 10 000 numbers (loops): 0.0018794430445632393\n",
            "Runtime 10 000 numbers (loops): \n",
            "1.36 ms ± 312 µs per loop (mean ± std. dev. of 7 runs, 1000 loops each)\n",
            "Standard Deviation Column 3 with 10 000 numbers(built-in): 0.2854045269476155\n",
            "Runtime 10 000 numbers (built-in): \n",
            "1.43 ms ± 284 µs per loop (mean ± std. dev. of 7 runs, 1000 loops each)\n",
            "Standard Deviation Column 3 with 10 000 numbers (NumPy): 0.2854045269476156\n",
            "Runtime 10 000 numbers (NumPy): \n",
            "532 µs ± 5.84 µs per loop (mean ± std. dev. of 7 runs, 1000 loops each)\n",
            "\n",
            "\n"
          ]
        }
      ]
    },
    {
      "cell_type": "markdown",
      "source": [
        "## Conlusion for the boss\n",
        "\n",
        "The runtime when using NumPy's std() function is significantly faster than both\n",
        "the use of loops and the built-in len() and sum() functions.\n",
        "Manual loops are the slowest - especially when handling large datasets with a lot of rows"
      ],
      "metadata": {
        "id": "0u_rYyA9KsyH"
      }
    }
  ],
  "metadata": {
    "language_info": {
      "name": "python"
    },
    "colab": {
      "provenance": []
    },
    "kernelspec": {
      "name": "python3",
      "display_name": "Python 3"
    }
  },
  "nbformat": 4,
  "nbformat_minor": 0
}